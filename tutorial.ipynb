{
 "cells": [
  {
   "cell_type": "markdown",
   "metadata": {},
   "source": [
    "# Gradient Boosting Reinforcement Learning (GBRL)\n",
    "GBRL is a Python-based GBT library designed and optimized for reinforcement learning (RL).\n",
    "GBRL is designed to be integrated in popular RL python libraries as part of the standard RL training loop.  \n",
    "\n",
    "## GBRL Design\n",
    "The standard GBT supervised learning training procedure for K boosting iterations on a given set on inputs x and targets y is as follows:  \n",
    "***For K boosting iterations***   \n",
    "1. Generate predictions using current GBT ensemble.\n",
    "2. Calculate loss L(y, predictions).\n",
    "3. Calculate gradients of the loss function w.r.t predictions  \n",
    "4. Fit a binary decision tree on the gradients and add it to the ensemble.\n",
    "5. Repeat from step 1.\n",
    "\n",
    "The training procedure is typically done end-to-end (E2E) within a GBT framework and is optimized for pre-defined loss functions.  However, E2E learning is not optimal for RL settings, where the training procedure requires interactions with an environment.\n",
    "\n",
    "GBRL draws inspiration from PyTorch and is designed to be easily integrated into RL or other online learning settings. As such, GBRL can be viewed as a functional optimizer that incrementally adjusts a learned function by taking steps in the direction of the gradient.\n",
    "\n",
    "## Get Started with GBRL\n",
    "This is a quick tutorial demonstrating usage examples\n",
    "\n"
   ]
  },
  {
   "cell_type": "markdown",
   "metadata": {},
   "source": [
    "### Basic Usage: Training, Saving, Loading"
   ]
  },
  {
   "cell_type": "code",
   "execution_count": 105,
   "metadata": {},
   "outputs": [],
   "source": [
    "import numpy as np\n",
    "import matplotlib.pyplot as plt\n",
    "import torch as th\n",
    "import gymnasium as gym \n",
    "\n",
    "from sklearn import datasets\n",
    "from torch.nn.functional import mse_loss \n",
    "from torch.distributions import Categorical\n",
    "\n",
    "from gbrl import cuda_available\n",
    "from gbrl.gbt import GBRL \n",
    "from gbrl.ac_gbrl import ActorCritic"
   ]
  },
  {
   "cell_type": "code",
   "execution_count": 2,
   "metadata": {},
   "outputs": [],
   "source": [
    "# toy dataset\n",
    "X_numpy, y_numpy = datasets.load_diabetes(return_X_y=True, as_frame=False, scaled=False)\n",
    "\n",
    "out_dim = 1 if len(y_numpy.shape) == 1  else y_numpy.shape[1]\n",
    "\n",
    "X, y = th.tensor(X_numpy, dtype=th.float32), th.tensor(y_numpy, dtype=th.float32)\n",
    "# CUDA is not deterministic\n",
    "device = 'cuda' if cuda_available else 'cpu'\n",
    "\n",
    "# initializing model parameters\n",
    "tree_struct = {'max_depth': 4, # maximum tree depth\n",
    "               'n_bins': 256, # maximum number of candidates to generate per numeric feature\n",
    "               'min_data_in_leaf': 0, # minimum samples in each child when splitting\n",
    "               'grow_policy': 'oblivious' # tree growth policy: [oblivious, greedy]\n",
    "        }\n",
    "\n",
    "optimizer = { 'algo': 'SGD', # optimizer algorithm: [SGD/Adam], Adam is available for cpu only  \n",
    "              'lr': 1.0, # learning rate\n",
    "              'start_idx': 0,\n",
    "              'stop_idx': out_dim\n",
    "            }\n",
    "gbrl_params = {\n",
    "               \"split_score_func\": \"Cosine\", # split score function: [L2, Cosine]\n",
    "               \"generator_type\": \"Quantile\" # candidate generation policy - [Uniform, Quantile]. \n",
    "                }"
   ]
  },
  {
   "cell_type": "code",
   "execution_count": 3,
   "metadata": {},
   "outputs": [
    {
     "name": "stdout",
     "output_type": "stream",
     "text": [
      "Setting GBRL device to cuda\n"
     ]
    }
   ],
   "source": [
    "# setting up model\n",
    "gbrl_model = GBRL(\n",
    "                    output_dim=out_dim,\n",
    "                    tree_struct=tree_struct,\n",
    "                    optimizer=optimizer,\n",
    "                    gbrl_params=gbrl_params,\n",
    "                    verbose=0,\n",
    "                    device=device)\n",
    "# set GBRL bias\n",
    "gbrl_model.set_bias_from_targets(y)"
   ]
  },
  {
   "cell_type": "code",
   "execution_count": 4,
   "metadata": {},
   "outputs": [],
   "source": [
    "def rmse_incremental_step(model, X, y):\n",
    "    # forward pass - y_pred is a torch tensor with requires_grad = True by default\n",
    "    y_pred = model(X)\n",
    "    # calculate loss - we must scale pytorch's mse loss function by 0.5 to get the correct MSE gradient\n",
    "    loss = 0.5*mse_loss(y_pred, y) \n",
    "    loss.backward()\n",
    "    # perform a boosting step\n",
    "    model.step()\n",
    "    # return RMSE\n",
    "    return loss.sqrt().item()"
   ]
  },
  {
   "cell_type": "code",
   "execution_count": 5,
   "metadata": {},
   "outputs": [],
   "source": [
    "# Helper function to plot results\n",
    "def plot_loss(n_iterations, losses, x_label, y_label):\n",
    "    plt.close('all')\n",
    "    _, ax = plt.subplots()\n",
    "\n",
    "    ax.plot(np.arange(n_iterations), losses)\n",
    "    ax.set_xlabel(x_label)\n",
    "    ax.set_ylabel(y_label)\n",
    "    plt.show()\n",
    "        "
   ]
  },
  {
   "cell_type": "code",
   "execution_count": 6,
   "metadata": {},
   "outputs": [
    {
     "data": {
      "image/png": "[encoded data removed]",
      "text/plain": [
       "<Figure size 432x288 with 1 Axes>"
      ]
     },
     "metadata": {
      "needs_background": "light"
     },
     "output_type": "display_data"
    }
   ],
   "source": [
    "# training for 100 iterations\n",
    "n_iterations = 100\n",
    "losses = []\n",
    "for _ in range(n_iterations):\n",
    "    rmse_loss = rmse_incremental_step(gbrl_model, X, y)\n",
    "    losses.append(rmse_loss)\n",
    "    \n",
    "plot_loss(n_iterations, losses, y_label='Training loss', x_label='Boosting Iterations')\n"
   ]
  },
  {
   "cell_type": "markdown",
   "metadata": {},
   "source": [
    "GBT work with per-sample gradients but PyTorch losses are typically calculated as the expected loss and derivated w.r.t fixed parameters. GBRL internally multiplies the gradients with the number of samples when calling the step function. This allows to get similar results when using PyTorch losses on 1-dimensional outputs. However, when working with PyTorch losses and multi-output targets or different reductions one should take this into consideration.  \n",
    "For example:\n",
    "1. When using a summation reduction we should use:  \n",
    "    `loss = 0.5*mse_loss(y_pred, y, reduction='sum') / len(y_pred)`\n",
    "2. When working with multiple outputs dimensions we should use:  \n",
    "    `0.5*mse_loss(y_pred, y_multi) * output_dim`."
   ]
  },
  {
   "cell_type": "markdown",
   "metadata": {},
   "source": [
    "### Saving, loading, and copying a GBRL Model"
   ]
  },
  {
   "cell_type": "code",
   "execution_count": 7,
   "metadata": {},
   "outputs": [
    {
     "name": "stdout",
     "output_type": "stream",
     "text": [
      "Current GBRL Library Version 1.0.8\n",
      "Reading GBRL Library Version 1.0.8\n",
      "######## Loaded GBRL model ########\n",
      "output_dim: 1 max_depth: 4 min_data_in_leaf: 0\n",
      "generator_type: Quantile n_bins: 256 cv_beta: 0.9 split_score_func: Cosine\n",
      "grow_policy: Oblivous verbose: 0 device: cpu use_cv: 0 batch_size: 5000\n",
      "Loaded: 1016 leaves from 100 trees\n",
      "Model has: 1 optimizers \n",
      "Setting GBRL device to cuda\n",
      "Setting GBRL device to cpu\n"
     ]
    }
   ],
   "source": [
    "# Call the save_model method of a GBRL class\n",
    "# GBRL will automatically save the file with the .gbrl_model ending\n",
    "# The file will be saved in the current working directory\n",
    "# Provide the absolute path to save the file in a different directory.\n",
    "gbrl_model.save_model('gbt_model_tutorial')\n",
    "# Loading a saved model is similar and is done by calling the specific class instance.\n",
    "loaded_gbt_model = GBRL.load_model('gbt_model_tutorial', device=device)\n",
    "# Copying a model is even more straighforward\n",
    "copied_model = gbrl_model.copy()"
   ]
  },
  {
   "cell_type": "markdown",
   "metadata": {},
   "source": [
    "### Using Manually Calculated Gradients\n",
    "Alternatively GBRL can use manually calculated gradients. "
   ]
  },
  {
   "cell_type": "code",
   "execution_count": 8,
   "metadata": {},
   "outputs": [],
   "source": [
    "def manual_rmse_incremental_step(model, X, y):\n",
    "    # forward pass - y_pred is a torch tensor with requires_grad = True by default\n",
    "    y_pred = model(X)\n",
    "    # calculate loss - we must scale pytorch's mse loss function by 0.5 to get the correct MSE gradient\n",
    "    loss = 0.5*mse_loss(y_pred, y) \n",
    "    grad = y_pred - y\n",
    "    # perform a boosting step\n",
    "    model.step(X, grad)\n",
    "    print(loss.sqrt().item())\n",
    "    # return RMSE\n",
    "    return loss.sqrt().item()"
   ]
  },
  {
   "cell_type": "markdown",
   "metadata": {},
   "source": [
    "## Multiple iterations at once (standard supervised learning)\n",
    "GBRL supports training multiple boosting iterations with targets similar to other GBT libraries. This is done using the `fit` method.  \n",
    "***Note: only the RMSE loss function is supported for the `fit` method***"
   ]
  },
  {
   "cell_type": "code",
   "execution_count": 9,
   "metadata": {},
   "outputs": [
    {
     "name": "stdout",
     "output_type": "stream",
     "text": [
      "Setting GBRL device to cuda\n",
      "Boosting iteration: 1 - MultiRMSE Loss: 38.5951\n",
      "Boosting iteration: 2 - MultiRMSE Loss: 36.2837\n",
      "Boosting iteration: 3 - MultiRMSE Loss: 35.1098\n",
      "Boosting iteration: 4 - MultiRMSE Loss: 33.6919\n",
      "Boosting iteration: 5 - MultiRMSE Loss: 32.9568\n",
      "Boosting iteration: 6 - MultiRMSE Loss: 31.6021\n",
      "Boosting iteration: 7 - MultiRMSE Loss: 30.532\n",
      "Boosting iteration: 8 - MultiRMSE Loss: 29.7539\n",
      "Boosting iteration: 9 - MultiRMSE Loss: 28.394\n",
      "Boosting iteration: 10 - MultiRMSE Loss: 27.1759\n",
      "Boosting iteration: 11 - MultiRMSE Loss: 26.6348\n",
      "Boosting iteration: 12 - MultiRMSE Loss: 25.7894\n",
      "Boosting iteration: 13 - MultiRMSE Loss: 24.6541\n",
      "Boosting iteration: 14 - MultiRMSE Loss: 24.0878\n",
      "Boosting iteration: 15 - MultiRMSE Loss: 23.7288\n",
      "Boosting iteration: 16 - MultiRMSE Loss: 23.3921\n",
      "Boosting iteration: 17 - MultiRMSE Loss: 23.1141\n",
      "Boosting iteration: 18 - MultiRMSE Loss: 22.8577\n",
      "Boosting iteration: 19 - MultiRMSE Loss: 22.2795\n",
      "Boosting iteration: 20 - MultiRMSE Loss: 21.5422\n",
      "Boosting iteration: 21 - MultiRMSE Loss: 20.7688\n",
      "Boosting iteration: 22 - MultiRMSE Loss: 20.2509\n",
      "Boosting iteration: 23 - MultiRMSE Loss: 20.0085\n",
      "Boosting iteration: 24 - MultiRMSE Loss: 19.2446\n",
      "Boosting iteration: 25 - MultiRMSE Loss: 18.6603\n",
      "Boosting iteration: 26 - MultiRMSE Loss: 17.84\n",
      "Boosting iteration: 27 - MultiRMSE Loss: 17.4229\n",
      "Boosting iteration: 28 - MultiRMSE Loss: 17.1783\n",
      "Boosting iteration: 29 - MultiRMSE Loss: 16.9427\n",
      "Boosting iteration: 30 - MultiRMSE Loss: 16.4943\n",
      "Boosting iteration: 31 - MultiRMSE Loss: 15.9853\n",
      "Boosting iteration: 32 - MultiRMSE Loss: 15.5622\n",
      "Boosting iteration: 33 - MultiRMSE Loss: 15.1729\n",
      "Boosting iteration: 34 - MultiRMSE Loss: 14.7549\n",
      "Boosting iteration: 35 - MultiRMSE Loss: 14.6495\n",
      "Boosting iteration: 36 - MultiRMSE Loss: 14.4712\n",
      "Boosting iteration: 37 - MultiRMSE Loss: 14.2807\n",
      "Boosting iteration: 38 - MultiRMSE Loss: 13.7053\n",
      "Boosting iteration: 39 - MultiRMSE Loss: 13.3415\n",
      "Boosting iteration: 40 - MultiRMSE Loss: 13.0231\n",
      "Boosting iteration: 41 - MultiRMSE Loss: 12.8492\n",
      "Boosting iteration: 42 - MultiRMSE Loss: 12.4893\n",
      "Boosting iteration: 43 - MultiRMSE Loss: 12.1291\n",
      "Boosting iteration: 44 - MultiRMSE Loss: 11.9214\n",
      "Boosting iteration: 45 - MultiRMSE Loss: 11.7331\n",
      "Boosting iteration: 46 - MultiRMSE Loss: 11.4317\n",
      "Boosting iteration: 47 - MultiRMSE Loss: 11.0999\n",
      "Boosting iteration: 48 - MultiRMSE Loss: 11.0343\n",
      "Boosting iteration: 49 - MultiRMSE Loss: 10.9783\n",
      "Boosting iteration: 50 - MultiRMSE Loss: 10.6177\n",
      "Boosting iteration: 51 - MultiRMSE Loss: 10.3812\n",
      "Boosting iteration: 52 - MultiRMSE Loss: 10.0109\n",
      "Boosting iteration: 53 - MultiRMSE Loss: 9.70506\n",
      "Boosting iteration: 54 - MultiRMSE Loss: 9.33075\n",
      "Boosting iteration: 55 - MultiRMSE Loss: 9.09167\n",
      "Boosting iteration: 56 - MultiRMSE Loss: 9.00336\n",
      "Boosting iteration: 57 - MultiRMSE Loss: 8.87951\n",
      "Boosting iteration: 58 - MultiRMSE Loss: 8.73767\n",
      "Boosting iteration: 59 - MultiRMSE Loss: 8.52792\n",
      "Boosting iteration: 60 - MultiRMSE Loss: 8.23447\n",
      "Boosting iteration: 61 - MultiRMSE Loss: 8.09186\n",
      "Boosting iteration: 62 - MultiRMSE Loss: 8.03509\n",
      "Boosting iteration: 63 - MultiRMSE Loss: 7.8895\n",
      "Boosting iteration: 64 - MultiRMSE Loss: 7.81433\n",
      "Boosting iteration: 65 - MultiRMSE Loss: 7.73365\n",
      "Boosting iteration: 66 - MultiRMSE Loss: 7.47925\n",
      "Boosting iteration: 67 - MultiRMSE Loss: 7.23251\n",
      "Boosting iteration: 68 - MultiRMSE Loss: 7.15925\n",
      "Boosting iteration: 69 - MultiRMSE Loss: 7.10722\n",
      "Boosting iteration: 70 - MultiRMSE Loss: 6.94015\n",
      "Boosting iteration: 71 - MultiRMSE Loss: 6.8592\n",
      "Boosting iteration: 72 - MultiRMSE Loss: 6.70937\n",
      "Boosting iteration: 73 - MultiRMSE Loss: 6.44403\n",
      "Boosting iteration: 74 - MultiRMSE Loss: 6.38016\n",
      "Boosting iteration: 75 - MultiRMSE Loss: 6.3197\n",
      "Boosting iteration: 76 - MultiRMSE Loss: 6.29265\n",
      "Boosting iteration: 77 - MultiRMSE Loss: 6.16583\n",
      "Boosting iteration: 78 - MultiRMSE Loss: 6.104\n",
      "Boosting iteration: 79 - MultiRMSE Loss: 5.98933\n",
      "Boosting iteration: 80 - MultiRMSE Loss: 5.81409\n",
      "Boosting iteration: 81 - MultiRMSE Loss: 5.67354\n",
      "Boosting iteration: 82 - MultiRMSE Loss: 5.55428\n",
      "Boosting iteration: 83 - MultiRMSE Loss: 5.41124\n",
      "Boosting iteration: 84 - MultiRMSE Loss: 5.24757\n",
      "Boosting iteration: 85 - MultiRMSE Loss: 5.21177\n",
      "Boosting iteration: 86 - MultiRMSE Loss: 5.19629\n",
      "Boosting iteration: 87 - MultiRMSE Loss: 4.99874\n",
      "Boosting iteration: 88 - MultiRMSE Loss: 4.89515\n",
      "Boosting iteration: 89 - MultiRMSE Loss: 4.86384\n",
      "Boosting iteration: 90 - MultiRMSE Loss: 4.81103\n",
      "Boosting iteration: 91 - MultiRMSE Loss: 4.7747\n",
      "Boosting iteration: 92 - MultiRMSE Loss: 4.70774\n",
      "Boosting iteration: 93 - MultiRMSE Loss: 4.67901\n",
      "Boosting iteration: 94 - MultiRMSE Loss: 4.65881\n",
      "Boosting iteration: 95 - MultiRMSE Loss: 4.61873\n",
      "Boosting iteration: 96 - MultiRMSE Loss: 4.57004\n",
      "Boosting iteration: 97 - MultiRMSE Loss: 4.55724\n",
      "Boosting iteration: 98 - MultiRMSE Loss: 4.42769\n",
      "Boosting iteration: 99 - MultiRMSE Loss: 4.29501\n",
      "Boosting iteration: 100 - MultiRMSE Loss: 4.28306\n"
     ]
    }
   ],
   "source": [
    "gbrl_model = GBRL(\n",
    "                    output_dim=1,\n",
    "                    tree_struct=tree_struct,\n",
    "                    optimizer=optimizer,\n",
    "                    gbrl_params=gbrl_params,\n",
    "                    verbose=1,\n",
    "                    device=device)\n",
    "final_loss = gbrl_model.fit(X, y, iterations=100)"
   ]
  },
  {
   "cell_type": "markdown",
   "metadata": {},
   "source": [
    "## RL using GBRL\n",
    "Now that we have seen how GBRL is trained using incremental learning and PyTorch we can use it within an RL training loop\n",
    "\n",
    "For simplicity, we train an agent using REINFORCE, which might not give the best results."
   ]
  },
  {
   "cell_type": "code",
   "execution_count": 145,
   "metadata": {},
   "outputs": [],
   "source": [
    "def calculate_returns(rewards, gamma):\n",
    "    returns = []\n",
    "    running_g = 0.0\n",
    "    for reward in rewards[::-1]:\n",
    "        running_g = reward + gamma * running_g\n",
    "        returns.insert(0, running_g)\n",
    "    return returns\n",
    "\n",
    "def perform_rollout(rollout_buffer, agent, env):\n",
    "    obs, _ = env.reset(seed=0)\n",
    "    rollout_buffer['rewards'] = []\n",
    "    done = False\n",
    "    while not done:\n",
    "        action_logits, _ = agent(obs, requires_grad=False)\n",
    "        action = Categorical(logits=action_logits).sample()\n",
    "        action_numpy = action.cpu().numpy().squeeze()\n",
    "        \n",
    "        obs, reward, terminated, truncated, _ = env.step(action_numpy)\n",
    "        rollout_buffer['rewards'].append(reward)\n",
    "        rollout_buffer['obs'].append(obs)\n",
    "        rollout_buffer['actions'].append(action)\n",
    "\n",
    "        done = terminated or truncated\n",
    "\n",
    "    \n",
    "def reinforce_step(agent, observations, actions, returns, entropy_coeff=1e-1):\n",
    "     # model update\n",
    "    action_logits, values = agent(observations)\n",
    "    dist = Categorical(logits=action_logits)\n",
    "    log_probs = dist.log_prob(actions)\n",
    "    \n",
    "    # calculate reinforce loss with subtracted baseline\n",
    "    returns = (returns - returns.mean())\n",
    "    value_loss = th.nn.functional.mse_loss(returns, values)\n",
    "    policy_loss = -(log_probs*returns).mean()\n",
    "    loss = policy_loss + value_loss\n",
    "    loss.backward()\n",
    "    agent.step()\n",
    "\n",
    "# Helper function to plot results\n",
    "def plot_returns(iterations, losses, x_label, y_label):\n",
    "    plt.close('all')\n",
    "    _, ax = plt.subplots()\n",
    "\n",
    "    ax.plot(iterations, losses)\n",
    "    ax.set_xlabel(x_label)\n",
    "    ax.set_ylabel(y_label)\n",
    "    plt.show()\n",
    "        \n",
    "\n"
   ]
  },
  {
   "cell_type": "code",
   "execution_count": 146,
   "metadata": {},
   "outputs": [
    {
     "name": "stdout",
     "output_type": "stream",
     "text": [
      "****************************************\n",
      "Shared GBRL Tree with output dim: 3, tree_struct: {'max_depth': 4, 'n_bins': 256, 'min_data_in_leaf': 0, 'grow_policy': 'oblivious'} policy_optimizer: {'algo': 'SGD', 'start_idx': 0, 'stop_idx': 2, 'scheduler': 'Const', 'init_lr': 0.1} value_optimizer: {'algo': 'SGD', 'start_idx': 2, 'stop_idx': 3, 'scheduler': 'Const', 'init_lr': 0.0075}\n",
      "****************************************\n",
      "Setting GBRL device to cuda\n"
     ]
    },
    {
     "data": {
      "image/png": "[encoded data removed]",
      "text/plain": [
       "<Figure size 432x288 with 1 Axes>"
      ]
     },
     "metadata": {
      "needs_background": "light"
     },
     "output_type": "display_data"
    }
   ],
   "source": [
    "device = 'cuda'if th.cuda.is_available() else 'cpu'\n",
    "\n",
    "env = gym.make(\"CartPole-v1\")\n",
    "wrapped_env = gym.wrappers.RecordEpisodeStatistics(env, 50)  # Records episode-reward\n",
    "num_episodes = 1000\n",
    "gamma = 0.95\n",
    "optimizer = { 'algo': 'SGD',\n",
    "              'lr': 0.1,\n",
    "              'start_idx': 0,\n",
    "              'stop_idx': env.action_space.n,\n",
    "            }\n",
    "value_optimizer = { 'algo': 'SGD',\n",
    "              'lr': 0.0075,\n",
    "              'start_idx': env.action_space.n,\n",
    "              'stop_idx': env.action_space.n + 1,\n",
    "            }\n",
    "\n",
    "bias = np.zeros(env.action_space.n + 1, dtype=np.single)\n",
    "agent = ActorCritic(\n",
    "                    output_dim=env.action_space.n + 1,\n",
    "                    tree_struct=tree_struct,\n",
    "                    policy_optimizer=optimizer,\n",
    "                    value_optimizer=value_optimizer,\n",
    "                    gbrl_params=gbrl_params,\n",
    "                    verbose=0,\n",
    "                    bias=bias, \n",
    "                    device=device)\n",
    "\n",
    "update_every = 15\n",
    "mean_returns = []\n",
    "iterations = []\n",
    "rollout_buffer = {'actions': [], 'obs': [], 'returns': []}\n",
    "\n",
    "for episode in range(1, num_episodes + 1):\n",
    "    perform_rollout(rollout_buffer, agent, wrapped_env)\n",
    "    rollout_buffer['returns'].extend(calculate_returns(rollout_buffer['rewards'], gamma))\n",
    "\n",
    "    if episode % update_every == 0:\n",
    "        returns = th.tensor(rollout_buffer['returns'], device=device)\n",
    "        actions = th.cat(rollout_buffer['actions']).to(device)\n",
    "        # input to model can be either a torch tensor or a numpy ndarray\n",
    "        observations = np.stack(rollout_buffer['obs'])\n",
    "        reinforce_step(agent, observations, actions, returns)\n",
    "        rollout_buffer = {'actions': [], 'obs': [], 'returns': []}\n",
    "\n",
    "        mean_returns.append(np.mean(wrapped_env.return_queue))\n",
    "        iterations.append(agent.get_iteration())\n",
    "\n",
    "plot_returns(iterations, mean_returns, y_label='Episodic Returns', x_label='Boosting Iterations')"
   ]
  },
  {
   "cell_type": "markdown",
   "metadata": {},
   "source": [
    "# Explainability\n",
    "GBRL implements SHAP value calculation. SHAP values can be calculated over the entire ensemble as well as for individual trees.\n",
    "GBRL returns SHAP values with shap: [n_samples, n_features, n_actions]"
   ]
  },
  {
   "cell_type": "code",
   "execution_count": 147,
   "metadata": {},
   "outputs": [],
   "source": [
    "obs, info = wrapped_env.reset(seed=0)\n",
    "# per tree shap values\n",
    "tree_shap = agent.tree_shap(0, obs)\n",
    "# for the entire ensemble\n",
    "shap_values = agent.shap(obs)"
   ]
  },
  {
   "cell_type": "markdown",
   "metadata": {},
   "source": [
    "SHAP values are calculated internally and can be plotted using the [SHAP library](https://github.com/shap/shap).\n"
   ]
  },
  {
   "cell_type": "code",
   "execution_count": 149,
   "metadata": {},
   "outputs": [
    {
     "name": "stderr",
     "output_type": "stream",
     "text": [
      "/usr/local/lib/python3.11/site-packages/tqdm/auto.py:21: TqdmWarning: IProgress not found. Please update jupyter and ipywidgets. See https://ipywidgets.readthedocs.io/en/stable/user_install.html\n",
      "  from .autonotebook import tqdm as notebook_tqdm\n"
     ]
    },
    {
     "data": {
      "image/png": "[encoded data removed]",
      "text/plain": [
       "<Figure size 432x288 with 1 Axes>"
      ]
     },
     "metadata": {},
     "output_type": "display_data"
    },
    {
     "data": {
      "image/png": "[encoded data removed]",
      "text/plain": [
       "<Figure size 432x288 with 1 Axes>"
      ]
     },
     "metadata": {},
     "output_type": "display_data"
    }
   ],
   "source": [
    "CARTPOLE_FEATURE_NAMES = ['Cart Position', 'Cart Velocity', 'Pole Angle', 'Pole Angular Velocity']\n",
    "import shap\n",
    "import matplotlib.pyplot as plt\n",
    "plt.close('all')\n",
    "explainable_values_action_1 = shap.Explanation(shap_values.squeeze()[: , 0], feature_names=CARTPOLE_FEATURE_NAMES)\n",
    "explainable_values_action_2 = shap.Explanation(shap_values.squeeze()[: , 1], feature_names=CARTPOLE_FEATURE_NAMES)\n",
    "\n",
    "fig, ax = plt.subplots()\n",
    "ax.set_title(\"SHAP values Action 1 - initial observation\")\n",
    "shap.plots.bar(explainable_values_action_1, ax=ax)\n",
    "\n",
    "fig, ax = plt.subplots()\n",
    "ax.set_title(\"SHAP values Action 2 - initial observation\")\n",
    "shap.plots.bar(explainable_values_action_2, ax=ax)\n",
    "\n",
    "\n",
    "plt.show()"
   ]
  }
 ],
 "metadata": {
  "kernelspec": {
   "display_name": "Python 3",
   "language": "python",
   "name": "python3"
  },
  "language_info": {
   "codemirror_mode": {
    "name": "ipython",
    "version": 3
   },
   "file_extension": ".py",
   "mimetype": "text/x-python",
   "name": "python",
   "nbconvert_exporter": "python",
   "pygments_lexer": "ipython3",
   "version": "3.11.6"
  }
 },
 "nbformat": 4,
 "nbformat_minor": 2
}
