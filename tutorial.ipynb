{
 "cells": [
  {
   "cell_type": "markdown",
   "metadata": {},
   "source": [
    "# Gradient Boosting Reinforcement Learning (GBRL)\n",
    "GBRL is a Python-based GBT library designed and optimized for reinforcement learning (RL).\n",
    "GBRL is designed to be integrated in popular RL python libraries as part of the standard RL training loop.  \n",
    "\n",
    "## GBRL Design\n",
    "The standard GBT supervised learning training procedure for K boosting iterations on a given set on inputs x and targets y is as follows:  \n",
    "***For K boosting iterations***   \n",
    "1. Generate predictions using current GBT ensemble.\n",
    "2. Calculate loss L(y, predictions).\n",
    "3. Calculate gradients of the loss function w.r.t predictions  \n",
    "4. Fit a binary decision tree on the gradients and add it to the ensemble.\n",
    "5. Repeat from step 1.\n",
    "\n",
    "The training procedure is typically done E2E within a GBT framework and is optimized for pre-defined loss functions. GBRL modifies this procedure to seemingly integrate within RL loops by:\n",
    "- Outsourcing gradient calculation to autograd frameworks.\n",
    "- Incremental learning by performing a single boosting iteration on a given data batch containing pairs of states/observations and gradients.  \n",
    "\n",
    "\n",
    "## Get Started with GBRL\n",
    "This is a quick tutorial demonstrating usage examples\n",
    "\n"
   ]
  },
  {
   "cell_type": "markdown",
   "metadata": {},
   "source": [
    "### Basic Usage: Training, Saving, Loading"
   ]
  },
  {
   "cell_type": "code",
   "execution_count": 1,
   "metadata": {},
   "outputs": [],
   "source": [
    "import numpy as np\n",
    "import torch as th\n",
    "import gymnasium as gym \n",
    "\n",
    "from sklearn import datasets\n",
    "from torch.nn.functional import mse_loss \n",
    "from torch.distributions import Categorical\n",
    "\n",
    "from gbrl import GradientBoostingTrees, cuda_available, ParametricActor"
   ]
  },
  {
   "cell_type": "code",
   "execution_count": 2,
   "metadata": {},
   "outputs": [],
   "source": [
    "# incremental learning dataset\n",
    "X_numpy, y_numpy = datasets.load_diabetes(return_X_y=True, as_frame=False, scaled=False)\n",
    "# GBRL works with 2D arrays\n",
    "out_dim = 1 if len(y_numpy.shape) == 1  else  y_numpy.shape[1]\n",
    "if out_dim == 1:\n",
    "    y_numpy = y_numpy[:, np.newaxis]\n",
    "\n",
    "X, y = th.tensor(X_numpy, dtype=th.float32), th.tensor(y_numpy, dtype=th.float32)\n",
    "# CUDA is not deterministic\n",
    "device = 'cuda' if cuda_available else 'cpu'\n",
    "\n",
    "# initializing model parameters\n",
    "tree_struct = {'max_depth': 4, \n",
    "               'n_bins': 256,\n",
    "               'min_data_in_leaf': 0,\n",
    "               'par_th': 2,\n",
    "               'grow_policy': 'oblivious'\n",
    "        }\n",
    "\n",
    "optimizer = { 'algo': 'SGD',\n",
    "              'lr': 1.0,\n",
    "            }\n",
    "gbrl_params = {\n",
    "               \"split_score_func\": \"Cosine\",\n",
    "               \"generator_type\": \"Quantile\"\n",
    "                }"
   ]
  },
  {
   "cell_type": "code",
   "execution_count": 3,
   "metadata": {},
   "outputs": [
    {
     "name": "stdout",
     "output_type": "stream",
     "text": [
      "Setting GBRL device to cuda\n",
      "Setting policy optimizer indices: 0->1\n"
     ]
    }
   ],
   "source": [
    "# setting up model\n",
    "gbt_model = GradientBoostingTrees(\n",
    "                    output_dim=out_dim,\n",
    "                    tree_struct=tree_struct,\n",
    "                    optimizer=optimizer,\n",
    "                    gbrl_params=gbrl_params,\n",
    "                    verbose=0,\n",
    "                    device=device)\n",
    "gbt_model.set_bias_from_targets(y)"
   ]
  },
  {
   "cell_type": "code",
   "execution_count": 4,
   "metadata": {},
   "outputs": [
    {
     "name": "stdout",
     "output_type": "stream",
     "text": [
      "Boosting iteration: 1 RMSE loss: 54.45128631591797\n",
      "Boosting iteration: 2 RMSE loss: 45.69207763671875\n",
      "Boosting iteration: 3 RMSE loss: 40.96660232543945\n",
      "Boosting iteration: 4 RMSE loss: 38.452999114990234\n",
      "Boosting iteration: 5 RMSE loss: 37.19563293457031\n",
      "Boosting iteration: 6 RMSE loss: 36.10505294799805\n",
      "Boosting iteration: 7 RMSE loss: 35.092899322509766\n",
      "Boosting iteration: 8 RMSE loss: 34.05934524536133\n",
      "Boosting iteration: 9 RMSE loss: 33.4926872253418\n",
      "Boosting iteration: 10 RMSE loss: 32.695125579833984\n"
     ]
    }
   ],
   "source": [
    "# training for 10 epochs\n",
    "n_epochs = 10\n",
    "for _ in range(n_epochs):\n",
    "    # forward pass - setting requires_grad=True is mandatory for training\n",
    "    # y_pred is a torch tensor\n",
    "    y_pred = gbt_model(X, requires_grad=True)\n",
    "    # calculate loss - we must scale pytorch's mse loss function by 0.5 to get the correct MSE gradient\n",
    "    loss = 0.5*mse_loss(y_pred, y) \n",
    "    loss.backward()\n",
    "    # perform a boosting step\n",
    "    gbt_model.step(X)\n",
    "    print(f\"Boosting iteration: {gbt_model.get_iteration()} RMSE loss: {loss.sqrt()}\")\n",
    "    "
   ]
  },
  {
   "cell_type": "markdown",
   "metadata": {},
   "source": [
    "GBT work with per-sample gradients but pytorch typically calculates the expected loss. GBRL internally multiplies the gradients with the number of samples when calling the step function. Therefore, when working with pytorch losses and multi-output targets one should take this into consideration.  \n",
    "For example:\n",
    "1. When using a summation reduction"
   ]
  },
  {
   "cell_type": "code",
   "execution_count": 5,
   "metadata": {},
   "outputs": [
    {
     "name": "stdout",
     "output_type": "stream",
     "text": [
      "Setting GBRL device to cuda\n",
      "Setting policy optimizer indices: 0->1\n",
      "Boosting iteration: 1 RMSE loss: 54.45128631591797\n",
      "Boosting iteration: 2 RMSE loss: 45.69207763671875\n",
      "Boosting iteration: 3 RMSE loss: 40.96660232543945\n",
      "Boosting iteration: 4 RMSE loss: 38.452999114990234\n",
      "Boosting iteration: 5 RMSE loss: 37.19563293457031\n",
      "Boosting iteration: 6 RMSE loss: 36.10505294799805\n",
      "Boosting iteration: 7 RMSE loss: 35.0928955078125\n",
      "Boosting iteration: 8 RMSE loss: 34.05934524536133\n",
      "Boosting iteration: 9 RMSE loss: 33.4926872253418\n",
      "Boosting iteration: 10 RMSE loss: 32.695125579833984\n"
     ]
    }
   ],
   "source": [
    "gbt_model = GradientBoostingTrees(\n",
    "                    output_dim=out_dim,\n",
    "                    tree_struct=tree_struct,\n",
    "                    optimizer=optimizer,\n",
    "                    gbrl_params=gbrl_params,\n",
    "                    verbose=0,\n",
    "                    device=device)\n",
    "gbt_model.set_bias_from_targets(y)\n",
    "# continuing training 10  epochs using a sum reduction\n",
    "n_epochs = 10\n",
    "for _ in range(n_epochs):\n",
    "    y_pred = gbt_model(X, requires_grad=True)\n",
    "    # we divide the loss by the number of samples to compensate for GBRL's built-in multiplication by the same value   \n",
    "    loss = 0.5*mse_loss(y_pred, y, reduction='sum') / len(y_pred) \n",
    "    loss.backward()\n",
    "    # perform a boosting step\n",
    "    gbt_model.step(X)\n",
    "    print(f\"Boosting iteration: {gbt_model.get_iteration()} RMSE loss: {loss.sqrt()}\")\n",
    "    "
   ]
  },
  {
   "cell_type": "markdown",
   "metadata": {},
   "source": [
    "2. When working with multi-dimensional outputs"
   ]
  },
  {
   "cell_type": "code",
   "execution_count": 6,
   "metadata": {},
   "outputs": [
    {
     "name": "stdout",
     "output_type": "stream",
     "text": [
      "Setting GBRL device to cuda\n",
      "Setting policy optimizer indices: 0->2\n",
      "Boosting iteration: 1 RMSE loss: 54.45128631591797\n",
      "Boosting iteration: 2 RMSE loss: 45.69207763671875\n",
      "Boosting iteration: 3 RMSE loss: 40.96660232543945\n",
      "Boosting iteration: 4 RMSE loss: 38.4530029296875\n",
      "Boosting iteration: 5 RMSE loss: 37.19563293457031\n",
      "Boosting iteration: 6 RMSE loss: 36.10505294799805\n",
      "Boosting iteration: 7 RMSE loss: 35.092899322509766\n",
      "Boosting iteration: 8 RMSE loss: 34.05934524536133\n",
      "Boosting iteration: 9 RMSE loss: 33.4926872253418\n",
      "Boosting iteration: 10 RMSE loss: 32.695125579833984\n"
     ]
    }
   ],
   "source": [
    "y_multi = th.concat([y, y], dim=1)\n",
    "out_dim = y_multi.shape[1]\n",
    "gbt_model = GradientBoostingTrees(\n",
    "                    output_dim=out_dim,\n",
    "                    tree_struct=tree_struct,\n",
    "                    optimizer=optimizer,\n",
    "                    gbrl_params=gbrl_params,\n",
    "                    verbose=0,\n",
    "                    device=device)\n",
    "gbt_model.set_bias_from_targets(y_multi)\n",
    "# continuing training 10  epochs using a sum reduction\n",
    "n_epochs = 10\n",
    "for _ in range(n_epochs):\n",
    "    y_pred = gbt_model(X, requires_grad=True)\n",
    "    # we multiply the loss by the output dimension to compensate for pytorch's mean reduction for MSE loss that averages across all dimensions.\n",
    "    # this step is necessary to get the correct loss gradient - however the loss value itself is correct\n",
    "    loss = 0.5*mse_loss(y_pred, y_multi) * out_dim\n",
    "    loss.backward()\n",
    "    # perform a boosting step\n",
    "    gbt_model.step(X)\n",
    "    print(f\"Boosting iteration: {gbt_model.get_iteration()} RMSE loss: {(loss / out_dim).sqrt()}\")\n",
    "    "
   ]
  },
  {
   "cell_type": "markdown",
   "metadata": {},
   "source": [
    "### Saving, loading, and copying a GBRL Model"
   ]
  },
  {
   "cell_type": "code",
   "execution_count": 7,
   "metadata": {},
   "outputs": [
    {
     "name": "stdout",
     "output_type": "stream",
     "text": [
      "Version 1.0.0\n",
      "######## Loaded GBRL model ########\n",
      "output_dim: 2 policy_dim: 2 max_depth: 4 min_data_in_leaf: 0\n",
      "generator_type: Quantile n_bins: 256 cv_beta: 0.9 split_score_func: Cosine\n",
      "grow_policy: Oblivous verbose: 0 device: cpu use_cv: 0 batch_size: 5000\n",
      "Loaded: 160 leaves from 10 trees\n",
      "Model has: 1 optimizers \n",
      "Setting GBRL device to cpu\n",
      "Setting policy optimizer indices: 0->2\n"
     ]
    }
   ],
   "source": [
    "# Call the save_model method of a GBRL class\n",
    "# GBRL will automatically save the file with the .gbrl_model ending\n",
    "# The file will be saved in the current working directory\n",
    "# Provide the absolute path to save the file in a different directory.\n",
    "gbt_model.save_model('gbt_model_tutorial')\n",
    "# Loading a saved model is similar and is done by calling the specific class instance.\n",
    "loaded_gbt_model = GradientBoostingTrees.load_model('gbt_model_tutorial')\n",
    "# Copying a model is even more straighforward\n",
    "copied_model = gbt_model.copy()"
   ]
  },
  {
   "cell_type": "markdown",
   "metadata": {},
   "source": [
    "### Using Manually Calculated Gradients\n",
    "Alternatively GBRL can use manually calculated gradients.  Calling the `predict` method instead of the `__call__` method, returns a numpy array instead of a PyTorch tensor. Autograd libraries or manual calculations can be used to calculate gradients.  \n",
    "Fitting manually calculated gradients is done using the `_model.step` method that receives numpy arrays. \n"
   ]
  },
  {
   "cell_type": "code",
   "execution_count": 8,
   "metadata": {},
   "outputs": [
    {
     "name": "stdout",
     "output_type": "stream",
     "text": [
      "Setting GBRL device to cuda\n",
      "Setting policy optimizer indices: 0->1\n",
      "Boosting iteration: 1 RMSE loss: 54.451285094616374\n",
      "Boosting iteration: 2 RMSE loss: 45.69207739644566\n",
      "Boosting iteration: 3 RMSE loss: 40.96660135235073\n",
      "Boosting iteration: 4 RMSE loss: 38.453000641721275\n",
      "Boosting iteration: 5 RMSE loss: 37.195630958906875\n",
      "Boosting iteration: 6 RMSE loss: 36.10505478685948\n",
      "Boosting iteration: 7 RMSE loss: 35.092897136043995\n",
      "Boosting iteration: 8 RMSE loss: 34.059343996266506\n",
      "Boosting iteration: 9 RMSE loss: 33.4926875388276\n",
      "Boosting iteration: 10 RMSE loss: 32.69512485234102\n"
     ]
    }
   ],
   "source": [
    "# initializing model parameters\n",
    "tree_struct = {'max_depth': 4, \n",
    "               'n_bins': 256,\n",
    "               'min_data_in_leaf': 0,\n",
    "               'par_th': 2,\n",
    "               'grow_policy': 'oblivious'\n",
    "        }\n",
    "\n",
    "optimizer = { 'algo': 'SGD',\n",
    "              'lr': 1.0,\n",
    "            }\n",
    "gbrl_params = {\n",
    "               \"split_score_func\": \"Cosine\",\n",
    "               \"generator_type\": \"Quantile\"\n",
    "                }\n",
    "# setting up model\n",
    "gbt_model = GradientBoostingTrees(\n",
    "                    output_dim=1,\n",
    "                    tree_struct=tree_struct,\n",
    "                    optimizer=optimizer,\n",
    "                    gbrl_params=gbrl_params,\n",
    "                    verbose=0,\n",
    "                    device=device)\n",
    "# works with numpy arrays as well as PyTorch tensors\n",
    "gbt_model.set_bias_from_targets(y_numpy)\n",
    "\n",
    "# training for 10 epochs\n",
    "n_epochs = 10\n",
    "for _ in range(n_epochs):\n",
    "    # y_pred is a numpy array\n",
    "    y_pred = gbt_model.predict(X_numpy)\n",
    "    loss = np.sqrt(0.5*((y_pred - y_numpy)**2).mean()) \n",
    "    grads = y_pred - y_numpy\n",
    "    # perform a boosting step\n",
    "    gbt_model._model.step(X_numpy, grads)\n",
    "    print(f\"Boosting iteration: {gbt_model.get_iteration()} RMSE loss: {loss}\")"
   ]
  },
  {
   "cell_type": "markdown",
   "metadata": {},
   "source": [
    "## Multiple iterations at once (standard supervised learning)\n",
    "GBRL supports training multiple boosting iterations with targets similar to other GBT libraries. This is done using the `fit` method.  \n",
    "***Note: only the RMSE loss function is supported for the `fit` method***"
   ]
  },
  {
   "cell_type": "code",
   "execution_count": 9,
   "metadata": {},
   "outputs": [
    {
     "name": "stdout",
     "output_type": "stream",
     "text": [
      "Setting GBRL device to cuda\n",
      "Setting policy optimizer indices: 0->1\n",
      "Boosting iteration: 1 - MultiRMSE Loss: 45.6837\n",
      "Boosting iteration: 2 - MultiRMSE Loss: 40.9785\n",
      "Boosting iteration: 3 - MultiRMSE Loss: 38.0764\n",
      "Boosting iteration: 4 - MultiRMSE Loss: 36.488\n",
      "Boosting iteration: 5 - MultiRMSE Loss: 35.5321\n",
      "Boosting iteration: 6 - MultiRMSE Loss: 34.5769\n",
      "Boosting iteration: 7 - MultiRMSE Loss: 33.6143\n",
      "Boosting iteration: 8 - MultiRMSE Loss: 32.9781\n",
      "Boosting iteration: 9 - MultiRMSE Loss: 32.1553\n",
      "Boosting iteration: 10 - MultiRMSE Loss: 31.0168\n"
     ]
    }
   ],
   "source": [
    "gbt_model = GradientBoostingTrees(\n",
    "                    output_dim=1,\n",
    "                    tree_struct=tree_struct,\n",
    "                    optimizer=optimizer,\n",
    "                    gbrl_params=gbrl_params,\n",
    "                    verbose=1,\n",
    "                    device=device)\n",
    "final_loss = gbt_model.fit(X_numpy, y_numpy, iterations=10)\n"
   ]
  },
  {
   "cell_type": "markdown",
   "metadata": {},
   "source": [
    "## RL using GBRL\n",
    "Now that we have seen how GBRL is trained using incremental learning and PyTorch we can use it within an RL training loop\n",
    "\n",
    "Let's start by training a simple Reinforce algorithm"
   ]
  },
  {
   "cell_type": "code",
   "execution_count": 10,
   "metadata": {},
   "outputs": [],
   "source": [
    "def calculate_returns(rewards, gamma):\n",
    "    returns = []\n",
    "    running_g = 0.0\n",
    "    for reward in rewards[::-1]:\n",
    "        running_g = reward + gamma * running_g\n",
    "        returns.insert(0, running_g)\n",
    "    return returns"
   ]
  },
  {
   "cell_type": "code",
   "execution_count": 11,
   "metadata": {},
   "outputs": [
    {
     "name": "stdout",
     "output_type": "stream",
     "text": [
      "Setting GBRL device to cpu\n",
      "Setting policy optimizer indices: 0->2\n",
      "Episode 0 - boosting iteration: 0 episodic return: 13.0\n",
      "Episode 100 - boosting iteration: 5 episodic return: 29.239999771118164\n",
      "Episode 200 - boosting iteration: 10 episodic return: 33.779998779296875\n",
      "Episode 300 - boosting iteration: 15 episodic return: 46.52000045776367\n",
      "Episode 400 - boosting iteration: 20 episodic return: 58.20000076293945\n",
      "Episode 500 - boosting iteration: 25 episodic return: 81.4800033569336\n",
      "Episode 600 - boosting iteration: 30 episodic return: 80.86000061035156\n",
      "Episode 700 - boosting iteration: 35 episodic return: 111.37999725341797\n",
      "Episode 800 - boosting iteration: 40 episodic return: 107.76000213623047\n",
      "Episode 900 - boosting iteration: 45 episodic return: 130.36000061035156\n"
     ]
    }
   ],
   "source": [
    "env = gym.make(\"CartPole-v1\")\n",
    "wrapped_env = gym.wrappers.RecordEpisodeStatistics(env, 50)  # Records episode-reward\n",
    "num_episodes = 1000\n",
    "gamma = 0.99\n",
    "optimizer = { 'algo': 'SGD',\n",
    "              'lr': 0.05,\n",
    "            }\n",
    "\n",
    "bias = np.zeros(env.action_space.n, dtype=np.single)\n",
    "agent = ParametricActor(\n",
    "                    output_dim=env.action_space.n,\n",
    "                    tree_struct=tree_struct,\n",
    "                    policy_optimizer=optimizer,\n",
    "                    gbrl_params=gbrl_params,\n",
    "                    verbose=0,\n",
    "                    bias=bias, \n",
    "                    device='cpu')\n",
    "\n",
    "update_every = 20\n",
    "\n",
    "rollout_buffer = {'actions': [], 'obs': [], 'returns': []}\n",
    "for episode in range(num_episodes):\n",
    "    # gymnasium v26 requires users to set seed while resetting the environment\n",
    "    obs, info = wrapped_env.reset(seed=0)\n",
    "    rollout_buffer['rewards'] = []\n",
    "\n",
    "    done = False\n",
    "    while not done:\n",
    "        action_logits = agent(obs)\n",
    "        action = Categorical(logits=action_logits).sample()\n",
    "        action_numpy = action.cpu().numpy()\n",
    "        \n",
    "        obs, reward, terminated, truncated, info = wrapped_env.step(action_numpy.squeeze())\n",
    "        rollout_buffer['rewards'].append(reward)\n",
    "        rollout_buffer['obs'].append(obs)\n",
    "        rollout_buffer['actions'].append(action)\n",
    "\n",
    "        done = terminated or truncated\n",
    "    \n",
    "    rollout_buffer['returns'].extend(calculate_returns(rollout_buffer['rewards'], gamma))\n",
    "\n",
    "\n",
    "    if episode % update_every == 0 and episode > 0:\n",
    "        returns = th.tensor(rollout_buffer['returns'])\n",
    "        actions = th.cat(rollout_buffer['actions'])\n",
    "        # input to model can be either a torch tensor or a numpy ndarray\n",
    "        observations = np.stack(rollout_buffer['obs'])\n",
    "        # model update\n",
    "        action_logits = agent(observations, requires_grad=True)\n",
    "        dist = Categorical(logits=action_logits)\n",
    "        log_probs = dist.log_prob(actions)\n",
    "        # calculate reinforce loss with subtracted baseline\n",
    "        loss = -(log_probs*(returns - returns.mean())).mean()\n",
    "        loss.backward()\n",
    "        grads = agent.step(observations)\n",
    "        rollout_buffer = {'actions': [], 'obs': [], 'returns': []}\n",
    "\n",
    "    if episode % 100 == 0:\n",
    "        print(f\"Episode {episode} - boosting iteration: {agent.get_iteration()} episodic return: {np.mean(wrapped_env.return_queue)}\")\n",
    "        "
   ]
  },
  {
   "cell_type": "markdown",
   "metadata": {},
   "source": [
    "# Explainability\n",
    "GBRL implements SHAP value calculation. SHAP values can be calculated over the entire ensemble as well as for individual trees.\n",
    "GBRL returns SHAP values with shap: [n_samples, n_features, n_actions]"
   ]
  },
  {
   "cell_type": "code",
   "execution_count": 12,
   "metadata": {},
   "outputs": [],
   "source": [
    "# per tree shap values\n",
    "tree_shap = agent.tree_shap(0, obs)\n",
    "# for the entire ensemble\n",
    "shap_values = agent.shap(obs)"
   ]
  },
  {
   "cell_type": "markdown",
   "metadata": {},
   "source": [
    "SHAP values are calculated internally and can be plotted using the [SHAP library](https://github.com/shap/shap).\n"
   ]
  },
  {
   "cell_type": "code",
   "execution_count": 17,
   "metadata": {},
   "outputs": [
    {
     "data": {
      "image/png": "[encoded data removed]",
      "text/plain": [
       "<Figure size 640x480 with 1 Axes>"
      ]
     },
     "metadata": {},
     "output_type": "display_data"
    },
    {
     "data": {
      "image/png": "[encoded data removed]",
      "text/plain": [
       "<Figure size 640x480 with 1 Axes>"
      ]
     },
     "metadata": {},
     "output_type": "display_data"
    }
   ],
   "source": [
    "import shap\n",
    "import matplotlib.pyplot as plt\n",
    "plt.close('all')\n",
    "explainable_values_action_1 = shap.Explanation(shap_values.squeeze()[: , 0])\n",
    "explainable_values_action_2 = shap.Explanation(shap_values.squeeze()[: , 1])\n",
    "\n",
    "fig, ax = plt.subplots()\n",
    "shap.plots.bar(explainable_values_action_1, ax=ax)\n",
    "ax.set_title(\"SHAP values Action 1\")\n",
    "fig, ax = plt.subplots()\n",
    "shap.plots.bar(explainable_values_action_2, ax=ax)\n",
    "ax.set_title(\"SHAP values Action 2\")\n",
    "\n",
    "plt.show()"
   ]
  },
  {
   "cell_type": "code",
   "execution_count": null,
   "metadata": {},
   "outputs": [],
   "source": []
  }
 ],
 "metadata": {
  "kernelspec": {
   "display_name": "Python 3",
   "language": "python",
   "name": "python3"
  },
  "language_info": {
   "codemirror_mode": {
    "name": "ipython",
    "version": 3
   },
   "file_extension": ".py",
   "mimetype": "text/x-python",
   "name": "python",
   "nbconvert_exporter": "python",
   "pygments_lexer": "ipython3",
   "version": "3.11.6"
  }
 },
 "nbformat": 4,
 "nbformat_minor": 2
}
